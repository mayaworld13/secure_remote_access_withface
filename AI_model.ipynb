{
 "cells": [
  {
   "cell_type": "code",
   "execution_count": 1,
   "id": "7ad4e205",
   "metadata": {},
   "outputs": [],
   "source": [
    "#AI model\n",
    "import urllib.request"
   ]
  },
  {
   "cell_type": "code",
   "execution_count": 2,
   "id": "2333ce50",
   "metadata": {},
   "outputs": [
    {
     "name": "stdout",
     "output_type": "stream",
     "text": [
      "b'{\"statusCode\": 200, \"body\": \"\\\\\"user unlocked\\\\\"\"}'\n"
     ]
    }
   ],
   "source": [
    "request_url = urllib.request.urlopen('https://nmkuctsia0.execute-api.ap-south-1.amazonaws.com/test/unlock')\n",
    "print(request_url.read())"
   ]
  },
  {
   "cell_type": "code",
   "execution_count": 3,
   "id": "fa0370da",
   "metadata": {},
   "outputs": [
    {
     "name": "stdout",
     "output_type": "stream",
     "text": [
      "b'{\"statusCode\": 200, \"body\": \"\\\\\"user locked\\\\\"\"}'\n"
     ]
    }
   ],
   "source": [
    "request_url = urllib.request.urlopen('https://nmkuctsia0.execute-api.ap-south-1.amazonaws.com/test/lock')\n",
    "print(request_url.read())\n"
   ]
  },
  {
   "cell_type": "code",
   "execution_count": null,
   "id": "7f643e94",
   "metadata": {},
   "outputs": [],
   "source": []
  }
 ],
 "metadata": {
  "kernelspec": {
   "display_name": "Python 3",
   "language": "python",
   "name": "python3"
  },
  "language_info": {
   "codemirror_mode": {
    "name": "ipython",
    "version": 3
   },
   "file_extension": ".py",
   "mimetype": "text/x-python",
   "name": "python",
   "nbconvert_exporter": "python",
   "pygments_lexer": "ipython3",
   "version": "3.10.9"
  }
 },
 "nbformat": 4,
 "nbformat_minor": 5
}
